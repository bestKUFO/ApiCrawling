{
  "nbformat": 4,
  "nbformat_minor": 0,
  "metadata": {
    "colab": {
      "name": "api구현 모델.ipynb",
      "provenance": [],
      "collapsed_sections": [],
      "authorship_tag": "ABX9TyMtVZDS6/RbUWmNiPz5i9od",
      "include_colab_link": true
    },
    "kernelspec": {
      "name": "python3",
      "display_name": "Python 3"
    },
    "language_info": {
      "name": "python"
    }
  },
  "cells": [
    {
      "cell_type": "markdown",
      "metadata": {
        "id": "view-in-github",
        "colab_type": "text"
      },
      "source": [
        "<a href=\"https://colab.research.google.com/github/bestKUFO/ApiCrawling/blob/main/api%EA%B5%AC%ED%98%84_%EB%AA%A8%EB%8D%B8.ipynb\" target=\"_parent\"><img src=\"https://colab.research.google.com/assets/colab-badge.svg\" alt=\"Open In Colab\"/></a>"
      ]
    },
    {
      "cell_type": "markdown",
      "metadata": {
        "id": "ul57qSI9TzE6"
      },
      "source": [
        "API 주소 호출\n"
      ]
    },
    {
      "cell_type": "code",
      "metadata": {
        "id": "susPc8aj7yn9"
      },
      "source": [
        "#!pip install requests"
      ],
      "execution_count": null,
      "outputs": []
    },
    {
      "cell_type": "code",
      "metadata": {
        "id": "jeOzTXZmvImu"
      },
      "source": [
        "import requests\n",
        "import re\n",
        "import pandas as pd\n",
        "\n",
        "#URL 작동 형식 => Baseurl + Access_Token + Version + Action + Target + SearchQuery + SortField + CurPage + str(page) + RowCount\n",
        "Baseurl = \"https://apigateway.kisti.re.kr/openapicall.do?client_id=\"\n",
        "Access_Token = \"&token=\" # 2시간마다 갱신되는 토큰\n",
        "Version = \"&version=1.0\"\n",
        "Action = \"&action=search\" # API액션 구분\n",
        "Target = \"&target=ARTI\" #논문 약어\n",
        "field = \"{\\\"BI\\\":\"\n",
        "search = \"\\\"메타버스\\\"}\"\n",
        "SearchQuery = \"&searchQuery=\"+field+search # 검색필드 항목 : 검색어\n",
        "SortField = \"&sortField=title\" #정렬 필드\n",
        "CurPage = \"&curPage=\" #현재 페이지, cur*row = 10,000건 미만으로 제한\n",
        "row_count = 10 #한 페이지당 출력 건수\n",
        "RowCount = \"&rowCount=\"+str(row_count) #디스플레이 건수 기본값:10, 최대값: 100\n",
        "\n",
        "row_num = []\n",
        "article_title = []\n",
        "article_abstract = []"
      ],
      "execution_count": 1,
      "outputs": []
    },
    {
      "cell_type": "markdown",
      "metadata": {
        "id": "nBA2YRMa06Oi"
      },
      "source": [
        "논문 내용 호출 및 저장"
      ]
    },
    {
      "cell_type": "code",
      "metadata": {
        "id": "BYM4vocvTueq"
      },
      "source": [
        "#정해진 페이지 탐구하기\n",
        "class Article:\n",
        "  def __init__(self, max_page_num):\n",
        "    self.max_page_num = max_page_num\n",
        "\n",
        "  def getURL(self): # url을 만든 후 텍스트화 시킨 뒤 논문명과 초록을 각각 추출해 리스트에 저장하는 것을 반복\n",
        "    page = 1\n",
        "    \n",
        "    for page in range(1,self.max_page_num+1):\n",
        "      url = Baseurl + Access_Token + Version + Action + Target + SearchQuery + SortField + CurPage + str(page) + RowCount\n",
        "\n",
        "      response = requests.get(url)  \n",
        "      page_text = response.text\n",
        "      \n",
        "\n",
        "      for r in range(1,row_count+1):\n",
        "        #논문 번호 추가\n",
        "        page_row_num = f\"{page}_{r}\"\n",
        "        row_num.append(page_row_num)\n",
        "\n",
        "        #타이틀 호출 및 리스트에 저장\n",
        "        startidx = page_text.find(\"논문명\")\n",
        "        page_text = page_text[startidx+14:]\n",
        "        lastidx = page_text.find('</item>')\n",
        "        article_title.append(page_text[:lastidx-3])\n",
        "\n",
        "        #초록 호출 및 리스트에 저장\n",
        "        startidx = page_text.find(\"초록\")\n",
        "        page_text = page_text[startidx+13:]\n",
        "        lastidx = page_text.find('</item>')\n",
        "        article_abstract.append(page_text[:lastidx-3])\n",
        "      \n",
        "      page += 1\n",
        "\n",
        "\n",
        "    # print(response)\n",
        "    # print(url)\n",
        "\n",
        "  def callAll(self): # 리스트에 저장한 모든 문서 불러옴\n",
        "    for a in range(len(row_num)):\n",
        "      print(row_num[a], article_title[a], article_abstract[a], sep=\"\\n\")\n",
        "\n",
        "  def analysis_title(self):\n",
        "    #논문 제목 분석\n",
        "    str_title = \" \".join(article_title) # 문자열로 변환\n",
        "    str_title_upper = str_title.upper() # 대문자로 변환\n",
        "    str_title_upper = re.sub(\"[《》:<>‘’]\",\" \",str_title_upper) #특수기호 제거\n",
        "    split_title = str_title_upper.split() # split으로 단어로 나눠줌\n",
        "    title_count={}\n",
        "    for i in split_title:\n",
        "      try: title_count[i] += 1 \n",
        "      except: title_count[i] = 1\n",
        "    \n",
        "    print(title_count)\n",
        "  \n",
        "  def analysis_abstract(self):\n",
        "    #논문 초록 분석\n",
        "    str_abstract = \" \".join(article_abstract)\n",
        "    str_abstract_upper1 = str_abstract.upper()\n",
        "    str_abstract_upper = re.sub(\"[《》:<>‘’]\",\" \",str_abstract_upper1)\n",
        "    split_abstract = str_abstract_upper.split()\n",
        "    select_abstract = []\n",
        "    abstract_count={}\n",
        "    for i in split_abstract:\n",
        "      try: abstract_count[i] += 1\n",
        "      except: abstract_count[i] = 1    \n",
        "    \n",
        "    print(abstract_count)\n",
        "\n"
      ],
      "execution_count": 2,
      "outputs": []
    },
    {
      "cell_type": "code",
      "metadata": {
        "id": "K8cFY0Hm01ZG"
      },
      "source": [
        "#논문 검색 최대 페이지(페이지*페이지당 검색 갯수 <= 10,000 ), 한 페이지당 검색 갯수(기본값 10, 최대 100)\n",
        "art = Article(3)\n",
        "art.getURL()\n",
        "\n",
        "#중복값 제거\n",
        "set_article_title = set(article_title)\n",
        "article_title = list(set_article_title)\n",
        "set_article_abstract = set(article_abstract)\n",
        "article_abstract = list(set_article_abstract)"
      ],
      "execution_count": 3,
      "outputs": []
    },
    {
      "cell_type": "code",
      "metadata": {
        "id": "7xlXU5HZdG30"
      },
      "source": [
        "# arti_df = None\n",
        "arti_df = pd.DataFrame({\"Num\":row_num,\"Title\":article_title,\"Abstract\":article_abstract})\n",
        "# print(arti_df['Title'])\n",
        "# print(arti_df['Abstract'])\n",
        "arti_df.to_csv(\"논문.csv\", encoding=\"utf-8-sig\")\n"
      ],
      "execution_count": null,
      "outputs": []
    },
    {
      "cell_type": "code",
      "metadata": {
        "id": "7WosjiAInHm0"
      },
      "source": [
        "# 번외) pickle로 데이터 받기\n",
        "# import pickle\n",
        "\n",
        "# test_df = pd.read_pickle(\"논문\")\n",
        "\n",
        "# test_df"
      ],
      "execution_count": null,
      "outputs": []
    },
    {
      "cell_type": "markdown",
      "metadata": {
        "id": "699dlbcVlHps"
      },
      "source": [
        "형태소 분석을 하기위해 khaii를 불러와줌\n"
      ]
    },
    {
      "cell_type": "code",
      "metadata": {
        "id": "BfcBbbZunrie"
      },
      "source": [
        "!git clone https://github.com/kakao/khaiii.git\n",
        "\n",
        "!pip install cmake\n",
        "\n",
        "!mkdir build\n",
        "\n",
        "!cd build && cmake /content/khaiii\n",
        "\n",
        "!cd /content/build/ && make all\n",
        "\n",
        "!cd /content/build/ && make resource\n",
        "\n",
        "!cd /content/build && make install\n",
        "\n",
        "!cd /content/build && make package_python\n",
        "\n",
        "!pip install /content/build/package_python"
      ],
      "execution_count": null,
      "outputs": []
    },
    {
      "cell_type": "markdown",
      "metadata": {
        "id": "B_PBsu-CxuM8"
      },
      "source": [
        "판다스에 저장된 데이터를 불러와 형태소 분석"
      ]
    },
    {
      "cell_type": "code",
      "metadata": {
        "id": "781hSPrulG10"
      },
      "source": [
        "from khaiii import KhaiiiApi\n",
        "api = KhaiiiApi()\n",
        "\n",
        "#리스트로 변환하기\n",
        "data_lst = arti_df[\"Abstract\"]\n",
        "# data_list = []\n",
        "# for lst in data_lst:\n",
        "#   data_list += lst\n",
        "\n",
        "# print(data_lst)\n",
        "\n",
        "#string으로 변환\n",
        "# data = \" \".join(data_list)\n",
        "# # 형태소분석\n",
        "\n",
        "#명사로된 리스트 Noun_list\n",
        "\n",
        "\n",
        "# 테스트 결과 출력 \n",
        "for word in data_lst:\n",
        "  analyzed = api.analyze(word)\n",
        "  # print(word.morphs[0].lex)\n",
        "  print(analyzed[0].morphs[0].lex)"
      ],
      "execution_count": null,
      "outputs": []
    }
  ]
}