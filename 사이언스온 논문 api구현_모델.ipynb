{
  "nbformat": 4,
  "nbformat_minor": 0,
  "metadata": {
    "colab": {
      "name": "api구현 모델.ipynb",
      "provenance": [],
      "collapsed_sections": [],
      "mount_file_id": "1SMJuTVR0atDdsUILS022efhOw-zEDuin",
      "authorship_tag": "ABX9TyOXwz3Vtk5BwUxQ8z5SL1NS",
      "include_colab_link": true
    },
    "kernelspec": {
      "display_name": "Python 3",
      "name": "python3"
    },
    "language_info": {
      "name": "python"
    }
  },
  "cells": [
    {
      "cell_type": "markdown",
      "metadata": {
        "id": "view-in-github",
        "colab_type": "text"
      },
      "source": [
        "<a href=\"https://colab.research.google.com/github/bestKUFO/ApiCrawling/blob/main/%EC%82%AC%EC%9D%B4%EC%96%B8%EC%8A%A4%EC%98%A8%20%EB%85%BC%EB%AC%B8%20api%EA%B5%AC%ED%98%84_%EB%AA%A8%EB%8D%B8.ipynb\" target=\"_parent\"><img src=\"https://colab.research.google.com/assets/colab-badge.svg\" alt=\"Open In Colab\"/></a>"
      ]
    },
    {
      "cell_type": "markdown",
      "metadata": {
        "id": "J1Pmy2FMzTZH"
      },
      "source": [
        "git에서 Khaiii호출 및 pip 인스톨"
      ]
    },
    {
      "cell_type": "code",
      "metadata": {
        "id": "zwXwcPeOBsMW"
      },
      "source": [
        "!git clone https://github.com/kakao/khaiii.git\n",
        "\n",
        "!mkdir build\n",
        "\n",
        "!cd build && cmake /content/khaiii\n",
        "\n",
        "!cd /content/build/ && make all\n",
        "\n",
        "!cd /content/build/ && make resource\n",
        "\n",
        "!cd /content/build && make install\n",
        "\n",
        "!cd /content/build && make package_python\n",
        "\n",
        "!pip install /content/build/package_python"
      ],
      "execution_count": null,
      "outputs": []
    },
    {
      "cell_type": "markdown",
      "metadata": {
        "id": "yt9IKIC7vSgR"
      },
      "source": [
        "패키지 설치"
      ]
    },
    {
      "cell_type": "code",
      "metadata": {
        "id": "jyt4-8QXvSR3",
        "colab": {
          "base_uri": "https://localhost:8080/"
        },
        "outputId": "ac87bcf9-b304-4595-c6bf-73f1330b04b6"
      },
      "source": [
        "!pip install --upgrade gensim\n",
        "!pip install konlpy"
      ],
      "execution_count": null,
      "outputs": [
        {
          "output_type": "stream",
          "name": "stdout",
          "text": [
            "Requirement already satisfied: gensim in /usr/local/lib/python3.7/dist-packages (4.1.2)\n",
            "Requirement already satisfied: smart-open>=1.8.1 in /usr/local/lib/python3.7/dist-packages (from gensim) (5.2.1)\n",
            "Requirement already satisfied: numpy>=1.17.0 in /usr/local/lib/python3.7/dist-packages (from gensim) (1.19.5)\n",
            "Requirement already satisfied: scipy>=0.18.1 in /usr/local/lib/python3.7/dist-packages (from gensim) (1.4.1)\n"
          ]
        }
      ]
    },
    {
      "cell_type": "markdown",
      "metadata": {
        "id": "5__Gv3VZzbOB"
      },
      "source": [
        "URL 호출"
      ]
    },
    {
      "cell_type": "code",
      "metadata": {
        "id": "jeOzTXZmvImu"
      },
      "source": [
        "import requests\n",
        "import re\n",
        "import pandas as pd\n",
        "\n",
        "#URL 작동 형식 => Baseurl + Access_Token + Version + Action + Target + SearchQuery + SortField + CurPage + str(page) + RowCount\n",
        "Baseurl = \"https://apigateway.kisti.re.kr/openapicall.do?client_id={Client_id를 입력하세요}}\"\n",
        "Access_Token = \"&token= #Access_Token을 입력하면 됩니다.\" # 2시간마다 갱신되는 토큰\n",
        "Version = \"&version=1.0\"\n",
        "Action = \"&action=search\" # API액션 구분\n",
        "Target = \"&target=ARTI\" #논문 약어\n",
        "field = \"{\\\"BI\\\":\"\n",
        "search = \"\\\"메타버스\\\"}\"\n",
        "SearchQuery = \"&searchQuery=\"+field+search # 검색필드 항목 : 검색어\n",
        "SortField = \"&sortField=title\" #정렬 필드\n",
        "CurPage = \"&curPage=\" #현재 페이지, cur*row = 10,000건 미만으로 제한\n",
        "row_count = 10 #한 페이지당 출력 건수\n",
        "RowCount = \"&rowCount=\"+str(row_count) #디스플레이 건수 기본값:10, 최대값: 100\n",
        "\n",
        "row_num = []\n",
        "article_title = []\n",
        "article_abstract = []"
      ],
      "execution_count": null,
      "outputs": []
    },
    {
      "cell_type": "markdown",
      "metadata": {
        "id": "nBA2YRMa06Oi"
      },
      "source": [
        "논문 내용 호출 및 저장"
      ]
    },
    {
      "cell_type": "code",
      "metadata": {
        "id": "BYM4vocvTueq"
      },
      "source": [
        "#정해진 페이지 탐구하기\n",
        "class Article:\n",
        "  def __init__(self, max_page_num):\n",
        "    self.max_page_num = max_page_num\n",
        "\n",
        "  def getURL(self): # url을 만든 후 텍스트화 시킨 뒤 논문명과 초록을 각각 추출해 리스트에 저장하는 것을 반복\n",
        "    page = 1\n",
        "    \n",
        "    for page in range(1,self.max_page_num+1):\n",
        "      url = Baseurl + Access_Token + Version + Action + Target + SearchQuery + SortField + CurPage + str(page) + RowCount\n",
        "\n",
        "      response = requests.get(url)  \n",
        "      page_text = response.text\n",
        "      \n",
        "\n",
        "      for r in range(1,row_count+1):\n",
        "        #논문 번호 추가\n",
        "        page_row_num = f\"{page}_{r}\"\n",
        "        row_num.append(page_row_num)\n",
        "\n",
        "        #타이틀 호출 및 리스트에 저장\n",
        "        startidx = page_text.find(\"논문명\")\n",
        "        page_text = page_text[startidx+14:]\n",
        "        lastidx = page_text.find('</item>')\n",
        "        article_title.append(page_text[:lastidx-3])\n",
        "\n",
        "        #초록 호출 및 리스트에 저장\n",
        "        startidx = page_text.find(\"초록\")\n",
        "        page_text = page_text[startidx+13:]\n",
        "        lastidx = page_text.find('</item>')\n",
        "        article_abstract.append(page_text[:lastidx-3])\n",
        "      \n",
        "      page += 1\n",
        "\n",
        "\n",
        "\n",
        "  def callAll(self): # 리스트에 저장한 모든 문서 불러옴\n",
        "    for a in range(len(row_num)):\n",
        "      print(row_num[a], article_title[a], article_abstract[a], sep=\"\\n\")\n",
        "\n",
        "  def analysis_title(self):\n",
        "    #논문 제목 분석\n",
        "    str_title = \" \".join(article_title) # 문자열로 변환\n",
        "    str_title_upper = str_title.upper() # 대문자로 변환\n",
        "    str_title_upper = re.sub(\"[《》:<>‘’$/^]\",\" \",str_title_upper) #특수기호 제거\n",
        "    split_title = str_title_upper.split() # split으로 단어로 나눠줌\n",
        "    title_count={}\n",
        "    for i in split_title:\n",
        "      try: title_count[i] += 1 \n",
        "      except: title_count[i] = 1\n",
        "    \n",
        "    print(title_count)\n",
        "  \n",
        "  def analysis_abstract(self):\n",
        "    #논문 초록 분석\n",
        "    str_abstract = \" \".join(article_abstract)\n",
        "    str_abstract_upper1 = str_abstract.upper()\n",
        "    str_abstract_upper = re.sub(\"[《》:<>‘’$/^]\",\" \",str_abstract_upper1)\n",
        "    split_abstract = str_abstract_upper.split()\n",
        "    select_abstract = []\n",
        "    abstract_count={}\n",
        "    for i in split_abstract:\n",
        "      try: abstract_count[i] += 1\n",
        "      except: abstract_count[i] = 1    \n",
        "    \n",
        "    print(abstract_count)"
      ],
      "execution_count": null,
      "outputs": []
    },
    {
      "cell_type": "code",
      "metadata": {
        "id": "K8cFY0Hm01ZG",
        "colab": {
          "base_uri": "https://localhost:8080/"
        },
        "outputId": "24e3f74a-f2c0-40dd-860d-0bc80b060e05"
      },
      "source": [
        "#논문 검색 최대 페이지(페이지*페이지당 검색 갯수 <= 10,000 ), 한 페이지당 검색 갯수(기본값 10, 최대 100)\n",
        "art = Article(30)\n",
        "art.getURL()\n",
        "\n",
        "#중복값 제거\n",
        "# set_article_title = set(article_title)\n",
        "# article_title = list(set_article_title)\n",
        "# set_article_abstract = set(article_abstract)\n",
        "# article_abstract = list(set_article_abstract)\n",
        "\n",
        "#논문 타이틀 및 초록 갯수 확인\n",
        "print(len(article_title))\n",
        "print(len(article_abstract))"
      ],
      "execution_count": null,
      "outputs": [
        {
          "output_type": "stream",
          "name": "stdout",
          "text": [
            "300\n",
            "300\n"
          ]
        }
      ]
    },
    {
      "cell_type": "markdown",
      "metadata": {
        "id": "s_zdyFdtNKqN"
      },
      "source": [
        "논문을 csv파일로 저장"
      ]
    },
    {
      "cell_type": "code",
      "metadata": {
        "id": "7xlXU5HZdG30"
      },
      "source": [
        "arti_df = pd.DataFrame({\"Num\":row_num,\"Title\":article_title,\"Abstract\":article_abstract})\n",
        "\n",
        "arti_df.to_csv(\"논문.csv\", encoding=\"utf-8-sig\")"
      ],
      "execution_count": null,
      "outputs": []
    },
    {
      "cell_type": "markdown",
      "metadata": {
        "id": "B_PBsu-CxuM8"
      },
      "source": [
        "데이터를 불러와 khaiii로 형태소 분석"
      ]
    },
    {
      "cell_type": "markdown",
      "metadata": {
        "id": "H_CIdDXzeWgl"
      },
      "source": [
        "명사만 추출하는 버전"
      ]
    },
    {
      "cell_type": "code",
      "metadata": {
        "id": "781hSPrulG10",
        "colab": {
          "base_uri": "https://localhost:8080/"
        },
        "outputId": "87c2cb02-8da2-45a4-f086-d7d9cd1c3a22"
      },
      "source": [
        "from khaiii import KhaiiiApi\n",
        "import numpy as np\n",
        "\n",
        "api = KhaiiiApi()\n",
        "\n",
        "Noun_list = []\n",
        "\n",
        "article_abstract = list(filter(None, article_abstract))  # 공백 요소 제거 / 제거 안할 시 khaiii에서 오류남\n",
        "\n",
        "data = \" \".join(article_abstract)\n",
        "\n",
        "for word in api.analyze(data):\n",
        "  for morph in word.morphs:\n",
        "    if morph.tag in ['NNG', 'NNP']:\n",
        "      Noun_list.append(morph.lex)\n",
        "\n",
        "\n",
        "#명사 리스트 갯수 확인\n",
        "print(len(Noun_list))\n"
      ],
      "execution_count": null,
      "outputs": [
        {
          "output_type": "stream",
          "name": "stdout",
          "text": [
            "16465\n"
          ]
        }
      ]
    },
    {
      "cell_type": "markdown",
      "metadata": {
        "id": "MUyEey9WeQGv"
      },
      "source": [
        "기호, 영어제외 추출 버전"
      ]
    },
    {
      "cell_type": "code",
      "metadata": {
        "id": "E0Vm72X-NPpA",
        "colab": {
          "base_uri": "https://localhost:8080/"
        },
        "outputId": "3be0eb51-4a13-4280-8743-e788afbaf6de"
      },
      "source": [
        "from khaiii import KhaiiiApi\n",
        "import numpy as np\n",
        "import re\n",
        "\n",
        "api = KhaiiiApi()\n",
        "\n",
        "article_abstract = list(filter(None, article_abstract))  # 공백 요소 제거 / 제거 안할 시 khaiii에서 오류남\n",
        "\n",
        "re_abstract = []\n",
        "\n",
        "for i in article_abstract:\n",
        "  a = re.sub(\"&amp;#xD;\",\" \",i)\n",
        "  b = re.sub(\"[<TEX$^/>]\",\"\",a)\n",
        "  for b in api.analyze(b):\n",
        "    for morph in b.morphs:\n",
        "      if morph.tag not in ['SF', 'SP', 'SS', 'SE', 'SO', 'SW','SL','SN']:\n",
        "        re_abstract.append(morph.lex)\n",
        "\n",
        "#리스트 갯수 확인\n",
        "print(len(re_abstract))"
      ],
      "execution_count": null,
      "outputs": [
        {
          "output_type": "stream",
          "name": "stdout",
          "text": [
            "41001\n"
          ]
        }
      ]
    },
    {
      "cell_type": "markdown",
      "metadata": {
        "id": "vMyNnAOjI8Wt"
      },
      "source": [
        "Gensim을 이용한 형태소 분석"
      ]
    },
    {
      "cell_type": "markdown",
      "metadata": {
        "id": "ouqH61MeqBHj"
      },
      "source": [
        "토큰화, 단어 학습"
      ]
    },
    {
      "cell_type": "code",
      "metadata": {
        "colab": {
          "base_uri": "https://localhost:8080/"
        },
        "id": "43L44_pAnlf-",
        "outputId": "72d57965-57ea-4dfa-f730-8fe828d4319d"
      },
      "source": [
        "from konlpy.tag import Okt\n",
        "import matplotlib.pyplot as plt\n",
        "from tqdm import tqdm\n",
        "\n",
        "okt = Okt()\n",
        "\n",
        "tokenized_data = []\n",
        "for sentence in tqdm(Noun_list): # tqdm은 시각화용, 제외해도 무관\n",
        "    tokenized_sentence = okt.morphs(sentence, stem=True) # 토큰화\n",
        "    tokenized_data.append(tokenized_sentence)"
      ],
      "execution_count": null,
      "outputs": [
        {
          "output_type": "stream",
          "name": "stderr",
          "text": [
            "100%|██████████| 16465/16465 [00:13<00:00, 1232.36it/s]\n"
          ]
        }
      ]
    },
    {
      "cell_type": "code",
      "metadata": {
        "colab": {
          "base_uri": "https://localhost:8080/"
        },
        "id": "-zm1ERgjwIZ5",
        "outputId": "fa457424-9df1-4941-d828-32817f942ab4"
      },
      "source": [
        "from gensim.models.word2vec import Word2Vec\n",
        "from gensim.models import KeyedVectors\n",
        "\n",
        "#size = 임배딩 백터차원 / window = 컨텍스트윈도우 크기 / min_count = 단어 최소 빈도 수 제한\n",
        "#workers = 학습을 위한 프로세스 수 / 0 = CBOW / 1 = Skip - gram\n",
        "model = Word2Vec(sentences=tokenized_data, vector_size=300, window=2, min_count=2, workers=4, sg=1)\n",
        "model.wv.vectors.shape"
      ],
      "execution_count": null,
      "outputs": [
        {
          "output_type": "execute_result",
          "data": {
            "text/plain": [
              "(1561, 300)"
            ]
          },
          "metadata": {},
          "execution_count": 14
        }
      ]
    },
    {
      "cell_type": "markdown",
      "metadata": {
        "id": "1Mubc1Qvp78b"
      },
      "source": [
        "Gensim을 이용한 단어 연관분석"
      ]
    },
    {
      "cell_type": "code",
      "metadata": {
        "id": "GL4o-LZ68YeY",
        "colab": {
          "base_uri": "https://localhost:8080/"
        },
        "outputId": "c28865e4-f16a-448c-c623-77171e1d0f70"
      },
      "source": [
        "find_relation_word = input(\"\")\n",
        "\n",
        "model_result = model.wv.most_similar(find_relation_word)\n",
        "print(model_result)"
      ],
      "execution_count": null,
      "outputs": [
        {
          "output_type": "stream",
          "name": "stdout",
          "text": [
            "메타\n",
            "[('량', 0.17684349417686462), ('상황', 0.16628172993659973), ('수용', 0.1647205948829651), ('도구', 0.15885388851165771), ('상위', 0.15422379970550537), ('국내', 0.1530960202217102), ('촬영', 0.15301477909088135), ('제작자', 0.15188434720039368), ('신설', 0.15149840712547302), ('수단', 0.14905992150306702)]\n"
          ]
        }
      ]
    }
  ]
}